{
 "cells": [
  {
   "cell_type": "markdown",
   "metadata": {},
   "source": [
    "## 1er etape: Bert-Base"
   ]
  },
  {
   "cell_type": "markdown",
   "metadata": {},
   "source": [
    "Représentation avec les Embeddings de Transformers"
   ]
  },
  {
   "cell_type": "markdown",
   "metadata": {},
   "source": [
    "loading the sentences of tokens"
   ]
  },
  {
   "cell_type": "code",
   "execution_count": 29,
   "metadata": {},
   "outputs": [],
   "source": [
    "# load the tokens \n",
    "import pandas as pd\n",
    "\n",
    "df_tokens = pd.read_csv('token_lemma_pos.csv')\n",
    "df_tokens.fillna('', inplace = True)\n",
    "tokens = df_tokens['token'].tolist()\n",
    "\n",
    "def get_document(token):\n",
    "  docs = []\n",
    "  for i in range(0, len(token)):\n",
    "    for j in range(i, len(token)):\n",
    "      if token[j] == '':\n",
    "        docs.append(' '.join(token[i:j]))\n",
    "        i = j + 1\n",
    "    break\n",
    "  return docs\n",
    "\n",
    "docs = get_document(tokens)\n",
    "# docs = docs[:10]\n",
    "# docs"
   ]
  },
  {
   "cell_type": "markdown",
   "metadata": {},
   "source": [
    "embedding the tokens and the phrases"
   ]
  },
  {
   "cell_type": "code",
   "execution_count": 32,
   "metadata": {},
   "outputs": [
    {
     "name": "stdout",
     "output_type": "stream",
     "text": [
      "109.0 M\n",
      "torch.Size([1, 8, 768])\n",
      "torch.Size([1, 768])\n"
     ]
    }
   ],
   "source": [
    "import torch\n",
    "from transformers import BertTokenizer\n",
    "from transformers import BertModel\n",
    "\n",
    "tokenizer = BertTokenizer.from_pretrained('bert-base-uncased')\n",
    "model = BertModel.from_pretrained('bert-base-uncased')\n",
    "print(sum([p.numel() for p in model.parameters()])//1e6, 'M')\n",
    "\n",
    "# get the embeddings \n",
    "# embd_layer = model.embeddings.word_embeddings\n",
    "# tokens_embd = []\n",
    "for phrase in docs:\n",
    "    tokens = tokenizer(phrase, return_tensors='pt')\n",
    "    # feed to the embedding layer to get the embdeddings for each token\n",
    "    embd_word = model(**tokens)\n",
    "    embedding = embd_word.last_hidden_state\n",
    "    print(embedding.shape)\n",
    "    # sum up all the tokens embedding to get the phrase embedding\n",
    "    phrase_embd = embedding.mean(dim = 1)\n",
    "    print(phrase_embd.shape)\n",
    "    break"
   ]
  },
  {
   "cell_type": "code",
   "execution_count": null,
   "metadata": {},
   "outputs": [],
   "source": [
    "model"
   ]
  },
  {
   "cell_type": "markdown",
   "metadata": {},
   "source": [
    "## 2eme etape"
   ]
  },
  {
   "cell_type": "markdown",
   "metadata": {},
   "source": [
    "Exploration des Embeddings Contextuels"
   ]
  },
  {
   "cell_type": "code",
   "execution_count": 33,
   "metadata": {},
   "outputs": [],
   "source": [
    "corpus = [\n",
    "\"The bank approved my loan application.\",\n",
    "\"The boat is docked near the river bank.\",\n",
    "\"The orange is a citrus fruit.\",\n",
    "\"The walls were painted orange.\",\n",
    "\"He deposited his money in the bank.\",\n",
    "\"The apple and banana are in the basket.\",\n",
    "\"The room was decorated with green and yellow.\",\n",
    "\"The river flows gently near the shore.\"\n",
    "]"
   ]
  },
  {
   "cell_type": "code",
   "execution_count": 34,
   "metadata": {},
   "outputs": [],
   "source": [
    "from transformers import DistilBertModel\n",
    "from transformers import DistilBertTokenizer\n",
    "\n",
    "distil_model = DistilBertModel.from_pretrained('distilbert-base-uncased')\n",
    "distil_tokenizer = DistilBertTokenizer.from_pretrained('distilbert-base-uncased')\n"
   ]
  },
  {
   "cell_type": "code",
   "execution_count": 35,
   "metadata": {},
   "outputs": [],
   "source": [
    "encoding = distil_tokenizer.batch_encode_plus(\n",
    "        corpus, \n",
    "        padding=True, \n",
    "        truncation=True,\n",
    "        return_tensors = 'pt',\n",
    "        add_special_tokens = True\n",
    ")\n",
    "tokens = [tokenizer.tokenize(phrase) for phrase in corpus]"
   ]
  },
  {
   "cell_type": "code",
   "execution_count": 36,
   "metadata": {},
   "outputs": [
    {
     "name": "stdout",
     "output_type": "stream",
     "text": [
      "66.0 M\n",
      "torch.Size([8, 11, 768])\n"
     ]
    }
   ],
   "source": [
    "with torch.no_grad():\n",
    "    outputs = model(**encoding)\n",
    "    word_embedding = outputs.last_hidden_state\n",
    "\n",
    "print(sum([p.numel() for p in distil_model.parameters()])// 1e6, 'M')\n",
    "print(word_embedding.shape)"
   ]
  },
  {
   "cell_type": "code",
   "execution_count": 37,
   "metadata": {},
   "outputs": [
    {
     "data": {
      "text/plain": [
       "torch.Size([5, 768])"
      ]
     },
     "execution_count": 37,
     "metadata": {},
     "output_type": "execute_result"
    }
   ],
   "source": [
    "token_with_embd = [{token: embd} for i in range(len(tokens)) for token, embd in zip(tokens[i], word_embedding[i])]\n",
    "embedding = [embd for e in token_with_embd for token, embd in e.items() if token == 'orange' or token == 'bank'] #  if token == 'orange' or token == 'bank'\n",
    "embedding = torch.stack(embedding, dim = 0)\n",
    "embedding.shape"
   ]
  },
  {
   "cell_type": "code",
   "execution_count": 38,
   "metadata": {},
   "outputs": [
    {
     "data": {
      "text/plain": [
       "(5, 2)"
      ]
     },
     "execution_count": 38,
     "metadata": {},
     "output_type": "execute_result"
    }
   ],
   "source": [
    "from sklearn.manifold import TSNE\n",
    "\n",
    "tsne = TSNE(n_components=2, perplexity=4, random_state=42, n_iter=3000)\n",
    "reduced_embeddings = tsne.fit_transform(embedding)\n",
    "reduced_embeddings.shape"
   ]
  },
  {
   "cell_type": "code",
   "execution_count": 40,
   "metadata": {},
   "outputs": [
    {
     "data": {
      "image/png": "[encoded data removed]",
      "text/plain": [
       "<Figure size 1400x1000 with 1 Axes>"
      ]
     },
     "metadata": {},
     "output_type": "display_data"
    }
   ],
   "source": [
    "import matplotlib.pyplot as plt\n",
    "\n",
    "# Étape 2 : Visualisation\n",
    "plt.figure(figsize=(14, 10))\n",
    "words = [w for token in tokens for w in token if w == 'orange' or w == 'bank']\n",
    "\n",
    "for i, word in enumerate(words):\n",
    "    x, y= reduced_embeddings[i, 0], reduced_embeddings[i, 1]\n",
    "    plt.scatter(x, y, color='blue')  # Dessine le point\n",
    "    plt.text(x + 0.5, y + 0.5, word, fontsize=9)  # Annoter le mot\n",
    "\n",
    "plt.show()\n"
   ]
  },
  {
   "cell_type": "code",
   "execution_count": null,
   "metadata": {},
   "outputs": [],
   "source": []
  }
 ],
 "metadata": {
  "kernelspec": {
   "display_name": "gym_env",
   "language": "python",
   "name": "python3"
  },
  "language_info": {
   "codemirror_mode": {
    "name": "ipython",
    "version": 3
   },
   "file_extension": ".py",
   "mimetype": "text/x-python",
   "name": "python",
   "nbconvert_exporter": "python",
   "pygments_lexer": "ipython3",
   "version": "3.8.19"
  }
 },
 "nbformat": 4,
 "nbformat_minor": 2
}
